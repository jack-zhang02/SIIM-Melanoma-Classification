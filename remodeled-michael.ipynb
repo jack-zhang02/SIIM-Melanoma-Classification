{
 "cells": [
  {
   "cell_type": "code",
   "execution_count": 1,
   "metadata": {
    "_cell_guid": "b1076dfc-b9ad-4769-8c92-a6c4dae69d19",
    "_uuid": "8f2839f25d086af736a60e9eeb907d3b93b6e0e5"
   },
   "outputs": [
    {
     "name": "stderr",
     "output_type": "stream",
     "text": [
      "Using TensorFlow backend.\n"
     ]
    }
   ],
   "source": [
    "# This Python 3 environment comes with many helpful analytics libraries installed\n",
    "# It is defined by the kaggle/python Docker image: https://github.com/kaggle/docker-python\n",
    "# For example, here's several helpful packages to load\n",
    "\n",
    "import numpy as np # linear algebra\n",
    "import pandas as pd # data processing, CSV file I/O (e.g. pd.read_csv)\n",
    "import tensorflow as tf\n",
    "import numpy as np\n",
    "import pandas as pd\n",
    "import matplotlib.pyplot as plt\n",
    "from sklearn.model_selection import train_test_split\n",
    "from keras.utils import to_categorical\n",
    "from tqdm import tqdm\n",
    "import cv2\n",
    "import random\n",
    "from scipy.ndimage import rotate\n",
    "import gc\n",
    "import datetime\n",
    "from sklearn.metrics import roc_auc_score\n",
    "# Input data files are available in the read-only \"../input/\" directory\n",
    "# For example, running this (by clicking run or pressing Shift+Enter) will list all files under the input directory\n",
    "\n",
    "import os\n",
    "#for dirname, _, filenames in os.walk('/kaggle/input'):\n",
    "#    for filename in filenames:\n",
    "#        print(os.path.join(dirname, filename))\n",
    "\n",
    "# You can write up to 5GB to the current directory (/kaggle/working/) that gets preserved as output when you create a version using \"Save & Run All\" \n",
    "# You can also write temporary files to /kaggle/temp/, but they won't be saved outside of the current session"
   ]
  },
  {
   "cell_type": "code",
   "execution_count": 2,
   "metadata": {
    "_cell_guid": "79c7e3d0-c299-4dcb-8224-4455121ee9b0",
    "_uuid": "d629ff2d2480ee46fbb7e2d37f6b5fab8052498a"
   },
   "outputs": [],
   "source": [
    "#trainimg = np.load(\"../input/siimisic-melanoma-resized-images/x_train_64.npy\")\n",
    "#trainimg.shape"
   ]
  },
  {
   "cell_type": "code",
   "execution_count": 3,
   "metadata": {},
   "outputs": [
    {
     "data": {
      "text/html": [
       "<div>\n",
       "<style scoped>\n",
       "    .dataframe tbody tr th:only-of-type {\n",
       "        vertical-align: middle;\n",
       "    }\n",
       "\n",
       "    .dataframe tbody tr th {\n",
       "        vertical-align: top;\n",
       "    }\n",
       "\n",
       "    .dataframe thead th {\n",
       "        text-align: right;\n",
       "    }\n",
       "</style>\n",
       "<table border=\"1\" class=\"dataframe\">\n",
       "  <thead>\n",
       "    <tr style=\"text-align: right;\">\n",
       "      <th></th>\n",
       "      <th>patient_id</th>\n",
       "      <th>image_id</th>\n",
       "      <th>target</th>\n",
       "      <th>source</th>\n",
       "      <th>sex</th>\n",
       "      <th>age_approx</th>\n",
       "      <th>anatom_site_general_challenge</th>\n",
       "    </tr>\n",
       "  </thead>\n",
       "  <tbody>\n",
       "    <tr>\n",
       "      <th>0</th>\n",
       "      <td>IP_7279968</td>\n",
       "      <td>ISIC_2637011</td>\n",
       "      <td>0</td>\n",
       "      <td>ISIC20</td>\n",
       "      <td>male</td>\n",
       "      <td>45.0</td>\n",
       "      <td>head/neck</td>\n",
       "    </tr>\n",
       "    <tr>\n",
       "      <th>1</th>\n",
       "      <td>IP_3075186</td>\n",
       "      <td>ISIC_0015719</td>\n",
       "      <td>0</td>\n",
       "      <td>ISIC20</td>\n",
       "      <td>female</td>\n",
       "      <td>45.0</td>\n",
       "      <td>upper extremity</td>\n",
       "    </tr>\n",
       "    <tr>\n",
       "      <th>2</th>\n",
       "      <td>IP_2842074</td>\n",
       "      <td>ISIC_0052212</td>\n",
       "      <td>0</td>\n",
       "      <td>ISIC20</td>\n",
       "      <td>female</td>\n",
       "      <td>50.0</td>\n",
       "      <td>lower extremity</td>\n",
       "    </tr>\n",
       "    <tr>\n",
       "      <th>3</th>\n",
       "      <td>IP_6890425</td>\n",
       "      <td>ISIC_0068279</td>\n",
       "      <td>0</td>\n",
       "      <td>ISIC20</td>\n",
       "      <td>female</td>\n",
       "      <td>45.0</td>\n",
       "      <td>head/neck</td>\n",
       "    </tr>\n",
       "    <tr>\n",
       "      <th>4</th>\n",
       "      <td>IP_8723313</td>\n",
       "      <td>ISIC_0074268</td>\n",
       "      <td>0</td>\n",
       "      <td>ISIC20</td>\n",
       "      <td>female</td>\n",
       "      <td>55.0</td>\n",
       "      <td>upper extremity</td>\n",
       "    </tr>\n",
       "    <tr>\n",
       "      <th>...</th>\n",
       "      <td>...</td>\n",
       "      <td>...</td>\n",
       "      <td>...</td>\n",
       "      <td>...</td>\n",
       "      <td>...</td>\n",
       "      <td>...</td>\n",
       "      <td>...</td>\n",
       "    </tr>\n",
       "    <tr>\n",
       "      <th>60482</th>\n",
       "      <td>NaN</td>\n",
       "      <td>ISIC_0013518</td>\n",
       "      <td>1</td>\n",
       "      <td>SLATMD</td>\n",
       "      <td>NaN</td>\n",
       "      <td>NaN</td>\n",
       "      <td>NaN</td>\n",
       "    </tr>\n",
       "    <tr>\n",
       "      <th>60483</th>\n",
       "      <td>NaN</td>\n",
       "      <td>ISIC_0014688</td>\n",
       "      <td>1</td>\n",
       "      <td>SLATMD</td>\n",
       "      <td>NaN</td>\n",
       "      <td>NaN</td>\n",
       "      <td>NaN</td>\n",
       "    </tr>\n",
       "    <tr>\n",
       "      <th>60484</th>\n",
       "      <td>NaN</td>\n",
       "      <td>ISIC_0015256</td>\n",
       "      <td>1</td>\n",
       "      <td>SLATMD</td>\n",
       "      <td>NaN</td>\n",
       "      <td>NaN</td>\n",
       "      <td>NaN</td>\n",
       "    </tr>\n",
       "    <tr>\n",
       "      <th>60485</th>\n",
       "      <td>NaN</td>\n",
       "      <td>ISIC_0014809</td>\n",
       "      <td>1</td>\n",
       "      <td>SLATMD</td>\n",
       "      <td>NaN</td>\n",
       "      <td>NaN</td>\n",
       "      <td>NaN</td>\n",
       "    </tr>\n",
       "    <tr>\n",
       "      <th>60486</th>\n",
       "      <td>NaN</td>\n",
       "      <td>ISIC_0012099</td>\n",
       "      <td>1</td>\n",
       "      <td>SLATMD</td>\n",
       "      <td>NaN</td>\n",
       "      <td>NaN</td>\n",
       "      <td>NaN</td>\n",
       "    </tr>\n",
       "  </tbody>\n",
       "</table>\n",
       "<p>60487 rows × 7 columns</p>\n",
       "</div>"
      ],
      "text/plain": [
       "       patient_id      image_id  target  source     sex  age_approx  \\\n",
       "0      IP_7279968  ISIC_2637011       0  ISIC20    male        45.0   \n",
       "1      IP_3075186  ISIC_0015719       0  ISIC20  female        45.0   \n",
       "2      IP_2842074  ISIC_0052212       0  ISIC20  female        50.0   \n",
       "3      IP_6890425  ISIC_0068279       0  ISIC20  female        45.0   \n",
       "4      IP_8723313  ISIC_0074268       0  ISIC20  female        55.0   \n",
       "...           ...           ...     ...     ...     ...         ...   \n",
       "60482         NaN  ISIC_0013518       1  SLATMD     NaN         NaN   \n",
       "60483         NaN  ISIC_0014688       1  SLATMD     NaN         NaN   \n",
       "60484         NaN  ISIC_0015256       1  SLATMD     NaN         NaN   \n",
       "60485         NaN  ISIC_0014809       1  SLATMD     NaN         NaN   \n",
       "60486         NaN  ISIC_0012099       1  SLATMD     NaN         NaN   \n",
       "\n",
       "      anatom_site_general_challenge  \n",
       "0                         head/neck  \n",
       "1                   upper extremity  \n",
       "2                   lower extremity  \n",
       "3                         head/neck  \n",
       "4                   upper extremity  \n",
       "...                             ...  \n",
       "60482                           NaN  \n",
       "60483                           NaN  \n",
       "60484                           NaN  \n",
       "60485                           NaN  \n",
       "60486                           NaN  \n",
       "\n",
       "[60487 rows x 7 columns]"
      ]
     },
     "execution_count": 3,
     "metadata": {},
     "output_type": "execute_result"
    }
   ],
   "source": [
    "traindata = pd.read_csv(\"../input/melanoma-merged-external-data-512x512-jpeg/marking.csv\")\n",
    "traindata"
   ]
  },
  {
   "cell_type": "code",
   "execution_count": 4,
   "metadata": {},
   "outputs": [],
   "source": [
    "traindata[\"image\"] = None\n",
    "for i in traindata.index:\n",
    "    traindata.at[i, \"image\"] = cv2.resize(cv2.imread(\"../input/melanoma-merged-external-data-512x512-jpeg/512x512-dataset-melanoma/512x512-dataset-melanoma/%s.jpg\" % (traindata.at[i, \"image_id\"])), (64, 64), interpolation = cv2.INTER_AREA)"
   ]
  },
  {
   "cell_type": "code",
   "execution_count": 5,
   "metadata": {},
   "outputs": [
    {
     "data": {
      "text/html": [
       "<div>\n",
       "<style scoped>\n",
       "    .dataframe tbody tr th:only-of-type {\n",
       "        vertical-align: middle;\n",
       "    }\n",
       "\n",
       "    .dataframe tbody tr th {\n",
       "        vertical-align: top;\n",
       "    }\n",
       "\n",
       "    .dataframe thead th {\n",
       "        text-align: right;\n",
       "    }\n",
       "</style>\n",
       "<table border=\"1\" class=\"dataframe\">\n",
       "  <thead>\n",
       "    <tr style=\"text-align: right;\">\n",
       "      <th></th>\n",
       "      <th>patient_id</th>\n",
       "      <th>image_id</th>\n",
       "      <th>target</th>\n",
       "      <th>source</th>\n",
       "      <th>sex</th>\n",
       "      <th>age_approx</th>\n",
       "      <th>anatom_site_general_challenge</th>\n",
       "      <th>image</th>\n",
       "    </tr>\n",
       "  </thead>\n",
       "  <tbody>\n",
       "    <tr>\n",
       "      <th>0</th>\n",
       "      <td>IP_7279968</td>\n",
       "      <td>ISIC_2637011</td>\n",
       "      <td>0</td>\n",
       "      <td>ISIC20</td>\n",
       "      <td>male</td>\n",
       "      <td>45.0</td>\n",
       "      <td>head/neck</td>\n",
       "      <td>[[[166, 122, 128], [180, 128, 142], [181, 132,...</td>\n",
       "    </tr>\n",
       "    <tr>\n",
       "      <th>1</th>\n",
       "      <td>IP_3075186</td>\n",
       "      <td>ISIC_0015719</td>\n",
       "      <td>0</td>\n",
       "      <td>ISIC20</td>\n",
       "      <td>female</td>\n",
       "      <td>45.0</td>\n",
       "      <td>upper extremity</td>\n",
       "      <td>[[[160, 102, 76], [163, 105, 81], [169, 110, 8...</td>\n",
       "    </tr>\n",
       "    <tr>\n",
       "      <th>2</th>\n",
       "      <td>IP_2842074</td>\n",
       "      <td>ISIC_0052212</td>\n",
       "      <td>0</td>\n",
       "      <td>ISIC20</td>\n",
       "      <td>female</td>\n",
       "      <td>50.0</td>\n",
       "      <td>lower extremity</td>\n",
       "      <td>[[[195, 132, 150], [199, 134, 152], [201, 131,...</td>\n",
       "    </tr>\n",
       "    <tr>\n",
       "      <th>3</th>\n",
       "      <td>IP_6890425</td>\n",
       "      <td>ISIC_0068279</td>\n",
       "      <td>0</td>\n",
       "      <td>ISIC20</td>\n",
       "      <td>female</td>\n",
       "      <td>45.0</td>\n",
       "      <td>head/neck</td>\n",
       "      <td>[[[115, 61, 59], [139, 75, 76], [152, 85, 90],...</td>\n",
       "    </tr>\n",
       "    <tr>\n",
       "      <th>4</th>\n",
       "      <td>IP_8723313</td>\n",
       "      <td>ISIC_0074268</td>\n",
       "      <td>0</td>\n",
       "      <td>ISIC20</td>\n",
       "      <td>female</td>\n",
       "      <td>55.0</td>\n",
       "      <td>upper extremity</td>\n",
       "      <td>[[[178, 125, 111], [181, 126, 115], [187, 133,...</td>\n",
       "    </tr>\n",
       "    <tr>\n",
       "      <th>...</th>\n",
       "      <td>...</td>\n",
       "      <td>...</td>\n",
       "      <td>...</td>\n",
       "      <td>...</td>\n",
       "      <td>...</td>\n",
       "      <td>...</td>\n",
       "      <td>...</td>\n",
       "      <td>...</td>\n",
       "    </tr>\n",
       "    <tr>\n",
       "      <th>60482</th>\n",
       "      <td>NaN</td>\n",
       "      <td>ISIC_0013518</td>\n",
       "      <td>1</td>\n",
       "      <td>SLATMD</td>\n",
       "      <td>NaN</td>\n",
       "      <td>NaN</td>\n",
       "      <td>NaN</td>\n",
       "      <td>[[[61, 68, 87], [67, 73, 91], [102, 92, 102], ...</td>\n",
       "    </tr>\n",
       "    <tr>\n",
       "      <th>60483</th>\n",
       "      <td>NaN</td>\n",
       "      <td>ISIC_0014688</td>\n",
       "      <td>1</td>\n",
       "      <td>SLATMD</td>\n",
       "      <td>NaN</td>\n",
       "      <td>NaN</td>\n",
       "      <td>NaN</td>\n",
       "      <td>[[[165, 150, 130], [212, 178, 146], [210, 174,...</td>\n",
       "    </tr>\n",
       "    <tr>\n",
       "      <th>60484</th>\n",
       "      <td>NaN</td>\n",
       "      <td>ISIC_0015256</td>\n",
       "      <td>1</td>\n",
       "      <td>SLATMD</td>\n",
       "      <td>NaN</td>\n",
       "      <td>NaN</td>\n",
       "      <td>NaN</td>\n",
       "      <td>[[[182, 117, 97], [195, 128, 107], [197, 128, ...</td>\n",
       "    </tr>\n",
       "    <tr>\n",
       "      <th>60485</th>\n",
       "      <td>NaN</td>\n",
       "      <td>ISIC_0014809</td>\n",
       "      <td>1</td>\n",
       "      <td>SLATMD</td>\n",
       "      <td>NaN</td>\n",
       "      <td>NaN</td>\n",
       "      <td>NaN</td>\n",
       "      <td>[[[204, 161, 147], [198, 149, 130], [207, 150,...</td>\n",
       "    </tr>\n",
       "    <tr>\n",
       "      <th>60486</th>\n",
       "      <td>NaN</td>\n",
       "      <td>ISIC_0012099</td>\n",
       "      <td>1</td>\n",
       "      <td>SLATMD</td>\n",
       "      <td>NaN</td>\n",
       "      <td>NaN</td>\n",
       "      <td>NaN</td>\n",
       "      <td>[[[26, 29, 33], [37, 39, 42], [159, 158, 158],...</td>\n",
       "    </tr>\n",
       "  </tbody>\n",
       "</table>\n",
       "<p>60487 rows × 8 columns</p>\n",
       "</div>"
      ],
      "text/plain": [
       "       patient_id      image_id  target  source     sex  age_approx  \\\n",
       "0      IP_7279968  ISIC_2637011       0  ISIC20    male        45.0   \n",
       "1      IP_3075186  ISIC_0015719       0  ISIC20  female        45.0   \n",
       "2      IP_2842074  ISIC_0052212       0  ISIC20  female        50.0   \n",
       "3      IP_6890425  ISIC_0068279       0  ISIC20  female        45.0   \n",
       "4      IP_8723313  ISIC_0074268       0  ISIC20  female        55.0   \n",
       "...           ...           ...     ...     ...     ...         ...   \n",
       "60482         NaN  ISIC_0013518       1  SLATMD     NaN         NaN   \n",
       "60483         NaN  ISIC_0014688       1  SLATMD     NaN         NaN   \n",
       "60484         NaN  ISIC_0015256       1  SLATMD     NaN         NaN   \n",
       "60485         NaN  ISIC_0014809       1  SLATMD     NaN         NaN   \n",
       "60486         NaN  ISIC_0012099       1  SLATMD     NaN         NaN   \n",
       "\n",
       "      anatom_site_general_challenge  \\\n",
       "0                         head/neck   \n",
       "1                   upper extremity   \n",
       "2                   lower extremity   \n",
       "3                         head/neck   \n",
       "4                   upper extremity   \n",
       "...                             ...   \n",
       "60482                           NaN   \n",
       "60483                           NaN   \n",
       "60484                           NaN   \n",
       "60485                           NaN   \n",
       "60486                           NaN   \n",
       "\n",
       "                                                   image  \n",
       "0      [[[166, 122, 128], [180, 128, 142], [181, 132,...  \n",
       "1      [[[160, 102, 76], [163, 105, 81], [169, 110, 8...  \n",
       "2      [[[195, 132, 150], [199, 134, 152], [201, 131,...  \n",
       "3      [[[115, 61, 59], [139, 75, 76], [152, 85, 90],...  \n",
       "4      [[[178, 125, 111], [181, 126, 115], [187, 133,...  \n",
       "...                                                  ...  \n",
       "60482  [[[61, 68, 87], [67, 73, 91], [102, 92, 102], ...  \n",
       "60483  [[[165, 150, 130], [212, 178, 146], [210, 174,...  \n",
       "60484  [[[182, 117, 97], [195, 128, 107], [197, 128, ...  \n",
       "60485  [[[204, 161, 147], [198, 149, 130], [207, 150,...  \n",
       "60486  [[[26, 29, 33], [37, 39, 42], [159, 158, 158],...  \n",
       "\n",
       "[60487 rows x 8 columns]"
      ]
     },
     "execution_count": 5,
     "metadata": {},
     "output_type": "execute_result"
    }
   ],
   "source": [
    "traindata"
   ]
  },
  {
   "cell_type": "code",
   "execution_count": 6,
   "metadata": {},
   "outputs": [],
   "source": [
    "traindata.to_csv(\"raw_melanoma_data.csv\")"
   ]
  },
  {
   "cell_type": "code",
   "execution_count": 7,
   "metadata": {},
   "outputs": [
    {
     "data": {
      "text/plain": [
       "(5479, 8)"
      ]
     },
     "execution_count": 7,
     "metadata": {},
     "output_type": "execute_result"
    }
   ],
   "source": [
    "traindata.query(\"target == 1\").shape"
   ]
  },
  {
   "cell_type": "markdown",
   "execution_count": null,
   "metadata": {},
   "source": [
    "Data aug functions"
   ]
  },
  {
   "cell_type": "code",
   "execution_count": 8,
   "metadata": {},
   "outputs": [],
   "source": [
    "def rotate_img(img, angle, bg_patch=(10,10)):\n",
    "    assert len(img.shape) <= 3, \"Incorrect image shape\"\n",
    "    rgb = len(img.shape) == 3\n",
    "    if rgb:\n",
    "        bg_color = np.mean(img[:bg_patch[0], :bg_patch[1], :], axis=(0,1))\n",
    "    else:\n",
    "        bg_color = np.mean(img[:bg_patch[0], :bg_patch[1]])\n",
    "    img = rotate(img, angle, reshape=False)\n",
    "    mask = [img <= 0, np.any(img <= 0, axis=-1)][rgb]\n",
    "    img[mask] = bg_color\n",
    "    return img\n",
    "# 0 = hor, 1 = vert\n",
    "def distort(img, orientation=0, func=np.sin, x_scale=0.03, y_scale=2):\n",
    "    #assert orientation[:3] in ['hor', 'ver'], \"dist_orient should be 'horizontal'|'vertical'\"\n",
    "    #orientation = orientation % 2\n",
    "    assert func in [np.sin, np.cos], \"supported functions are np.sin and np.cos\"\n",
    "    assert 0.00 <= x_scale <= 0.1, \"x_scale should be in [0.0, 0.1]\"\n",
    "    assert 0 <= y_scale <= min(img.shape[0], img.shape[1]), \"y_scale should be less then image size\"\n",
    "    img_dist = img.copy()\n",
    "    \n",
    "    def shift(x):\n",
    "        return int(y_scale * func(np.pi * x * x_scale))\n",
    "    \n",
    "    for c in range(3):\n",
    "        for i in range(img.shape[orientation == 1]):\n",
    "            if orientation == 1:\n",
    "                img_dist[:, i, c] = np.roll(img[:, i, c], shift(i))\n",
    "            else:\n",
    "                img_dist[i, :, c] = np.roll(img[i, :, c], shift(i))\n",
    "            \n",
    "    return img_dist\n",
    "# 0 = right, 1 = left, 2 = down, 3 = up\n",
    "# \"words\" are a phantasm actually\n",
    "def translate(img, shift=5, direction=0, roll=True):\n",
    "    #assert direction in ['right', 'left', 'down', 'up'], 'Directions should be top|up|left|right'\n",
    "    #dimention = dimention % 4\n",
    "    img = img.copy()\n",
    "    if direction == 0:\n",
    "        right_slice = img[:, -shift:].copy()\n",
    "        img[:, shift:] = img[:, :-shift]\n",
    "        if roll:\n",
    "            img[:,:shift] = np.fliplr(right_slice)\n",
    "    if direction == 1:\n",
    "        left_slice = img[:, :shift].copy()\n",
    "        img[:, :-shift] = img[:, shift:]\n",
    "        if roll:\n",
    "            img[:, -shift:] = left_slice\n",
    "    if direction == 2:\n",
    "        down_slice = img[-shift:, :].copy()\n",
    "        img[shift:, :] = img[:-shift,:]\n",
    "        if roll:\n",
    "            img[:shift, :] = down_slice\n",
    "    if direction == 3:\n",
    "        upper_slice = img[:shift, :].copy()\n",
    "        img[:-shift, :] = img[shift:, :]\n",
    "        if roll:\n",
    "            img[-shift:,:] = upper_slice\n",
    "    return img\n",
    "# (0, 1, 2) = ('r', 'g', 'b')\n",
    "#def change_channel_ratio(img, channel=0, ratio=0.5):\n",
    "    #assert channel in 'rgb', \"Value for channel: r|g|b\"\n",
    "#    img = img.copy()\n",
    "#    ci = channel\n",
    "#    img[:, :, ci] *= ratio\n",
    "#    return img\n",
    "\n",
    "def hair(img):\n",
    "        n_hairs = random.randint(0, 2)\n",
    "\n",
    "        if not n_hairs:\n",
    "            return img\n",
    "\n",
    "        height, width, _ = img.shape  # target image width and height\n",
    "        hair_images = [im for im in os.listdir(\"../input/images/720563_1253590_bundle_archive\") if 'png' in im]\n",
    "\n",
    "        for _ in range(n_hairs):\n",
    "            hair = cv2.imread(os.path.join(\"../input/images/720563_1253590_bundle_archive\", random.choice(hair_images)))\n",
    "            b,g,r = cv2.split(hair)           # get b, g, r\n",
    "            hair = cv2.merge([r,g,b]) # convert to rgb\n",
    "            hair = cv2.flip(hair, random.choice([-1, 0, 1]))\n",
    "            hair = cv2.rotate(hair, random.choice([0, 1, 2]))\n",
    "\n",
    "            h_height, h_width, _ = hair.shape  # hair image width and height\n",
    "            roi_ho = random.randint(0, img.shape[0] - hair.shape[0])\n",
    "            roi_wo = random.randint(0, img.shape[1] - hair.shape[1])\n",
    "            roi = img[roi_ho:roi_ho + h_height, roi_wo:roi_wo + h_width]\n",
    "\n",
    "            img2gray = cv2.cvtColor(hair, cv2.COLOR_BGR2GRAY)\n",
    "            ret, mask = cv2.threshold(img2gray, 10,255,cv2.THRESH_BINARY)\n",
    "            mask_inv = cv2.bitwise_not(mask)\n",
    "            img_bg = cv2.bitwise_and(roi, roi, mask=mask_inv)\n",
    "            hair_fg = cv2.bitwise_and(hair, hair, mask=mask)\n",
    "            \n",
    "            \n",
    "            \n",
    "            dst = cv2.add(img_bg, hair_fg)\n",
    "            img[roi_ho:roi_ho + h_height, roi_wo:roi_wo + h_width] = dst\n",
    "\n",
    "        return img\n",
    "\n",
    "    \n",
    "def augs(img, x):\n",
    "    if x == 0:\n",
    "        return cv2.flip(img, -1)\n",
    "    elif x == 1:\n",
    "        return cv2.flip(img, 0)\n",
    "    elif x == 2:\n",
    "        return cv2.flip(img, 1)\n",
    "    elif x == 3:\n",
    "        return translate(img, direction = random.randrange(4))\n",
    "    elif x == 4:\n",
    "        return distort(img, orientation = random.randrange(2))\n",
    "    elif x == 5:\n",
    "        return rotate_img(img, random.randint(20,110))\n",
    "    elif x == 6:\n",
    "        return hair(img)"
   ]
  },
  {
   "cell_type": "code",
   "execution_count": 9,
   "metadata": {},
   "outputs": [
    {
     "data": {
      "image/png": "[encoded data removed]",
      "text/plain": [
       "<Figure size 432x288 with 1 Axes>"
      ]
     },
     "metadata": {
      "needs_background": "light"
     },
     "output_type": "display_data"
    },
    {
     "data": {
      "image/png": "[encoded data removed]",
      "text/plain": [
       "<Figure size 432x288 with 1 Axes>"
      ]
     },
     "metadata": {
      "needs_background": "light"
     },
     "output_type": "display_data"
    },
    {
     "data": {
      "image/png": "[encoded data removed]",
      "text/plain": [
       "<Figure size 432x288 with 1 Axes>"
      ]
     },
     "metadata": {
      "needs_background": "light"
     },
     "output_type": "display_data"
    },
    {
     "data": {
      "image/png": "[encoded data removed]",
      "text/plain": [
       "<Figure size 432x288 with 1 Axes>"
      ]
     },
     "metadata": {
      "needs_background": "light"
     },
     "output_type": "display_data"
    },
    {
     "data": {
      "image/png": "[encoded data removed]",
      "text/plain": [
       "<Figure size 432x288 with 1 Axes>"
      ]
     },
     "metadata": {
      "needs_background": "light"
     },
     "output_type": "display_data"
    },
    {
     "data": {
      "image/png": "[encoded data removed]",
      "text/plain": [
       "<Figure size 432x288 with 1 Axes>"
      ]
     },
     "metadata": {
      "needs_background": "light"
     },
     "output_type": "display_data"
    },
    {
     "data": {
      "image/png": "[encoded data removed]",
      "text/plain": [
       "<Figure size 432x288 with 1 Axes>"
      ]
     },
     "metadata": {
      "needs_background": "light"
     },
     "output_type": "display_data"
    }
   ],
   "source": [
    "#we try out these distortions\n",
    "img = traindata.at[0, \"image\"]\n",
    "for a in range(7):\n",
    "    plt.imshow(augs(img, a))\n",
    "    plt.show()"
   ]
  },
  {
   "cell_type": "code",
   "execution_count": 10,
   "metadata": {},
   "outputs": [],
   "source": [
    "#mdf -> melanoma dataframe for future me\n",
    "#mdftrain, mdftest are train and test respectively\n",
    "\n",
    "mones = traindata[\"target\"]==1\n",
    "mdf = traindata[mones]\n",
    "mdftrain = mdf.sample(frac = 0.8)\n",
    "mdftest = mdf.drop(mdftrain.index)"
   ]
  },
  {
   "cell_type": "code",
   "execution_count": 11,
   "metadata": {},
   "outputs": [],
   "source": [
    "def augmentdata(df, amp):\n",
    "    weights = [1, 1, 1, 5, 5, 5, 3] #we don't want that many flips\n",
    "    def locaug(img):\n",
    "        return augs(img, random.choices(range(7), weights = weights)[0])\n",
    "    dfsize = df.shape[0]\n",
    "    unmodified = range(df.shape[0])\n",
    "    tmp1 = df.columns.get_loc(\"image\")\n",
    "    tmp2 = df.columns.get_loc(\"target\")\n",
    "    dfTmp = df.copy()\n",
    "    for a in range(int(amp - 1)):\n",
    "        dfTmp.loc[:, \"image\"] = dfTmp.loc[:, \"image\"].map(locaug)\n",
    "        df = df.append(dfTmp, ignore_index = True)\n",
    "    if amp != int(amp):\n",
    "        dfTmp = dfTmp.loc[random.sample(unmodified, int(dfsize * (amp - int(amp))))]\n",
    "        dfTmp.loc[:, \"image\"] = dfTmp.loc[:, \"image\"].map(locaug)\n",
    "        df = df.append(dfTmp, ignore_index = True)\n",
    "    return df"
   ]
  },
  {
   "cell_type": "code",
   "execution_count": 12,
   "metadata": {},
   "outputs": [],
   "source": [
    "mdftrain = augmentdata(mdftrain, 5)\n",
    "mdftrain = augmentdata(mdftrain, 4)\n",
    "#mdftest = augmentdata(mdftest, 5)\n",
    "#mdftest = augmentdata(mdftest, 4)"
   ]
  },
  {
   "cell_type": "code",
   "execution_count": 13,
   "metadata": {},
   "outputs": [
    {
     "name": "stdout",
     "output_type": "stream",
     "text": [
      "(87660, 8)\n",
      "(1096, 8)\n"
     ]
    }
   ],
   "source": [
    "print(mdftrain.shape)\n",
    "print(mdftest.shape)"
   ]
  },
  {
   "cell_type": "code",
   "execution_count": 14,
   "metadata": {},
   "outputs": [
    {
     "data": {
      "image/png": "[encoded data removed]",
      "text/plain": [
       "<Figure size 432x288 with 1 Axes>"
      ]
     },
     "metadata": {
      "needs_background": "light"
     },
     "output_type": "display_data"
    }
   ],
   "source": [
    "plt.imshow(mdftrain.iat[-30, 7])\n",
    "plt.show()"
   ]
  },
  {
   "cell_type": "code",
   "execution_count": 15,
   "metadata": {},
   "outputs": [],
   "source": [
    "#bdf -> benign (duh) dataframe for future me\n",
    "#bdftrain/test like mdftrain/test\n",
    "bones = traindata[\"target\"] == 0\n",
    "benigndf = traindata[bones]\n",
    "benigndftrain = benigndf.sample(frac = 0.8)\n",
    "benigndftest = benigndf.drop(benigndftrain.index)"
   ]
  },
  {
   "cell_type": "code",
   "execution_count": 16,
   "metadata": {},
   "outputs": [
    {
     "name": "stdout",
     "output_type": "stream",
     "text": [
      "(44006, 8)\n",
      "(11002, 8)\n"
     ]
    }
   ],
   "source": [
    "print(benigndftrain.shape)\n",
    "print(benigndftest.shape)"
   ]
  },
  {
   "cell_type": "code",
   "execution_count": 17,
   "metadata": {},
   "outputs": [],
   "source": [
    "benigndftrain = augmentdata(benigndftrain, 2)\n",
    "benigndftrain = augmentdata(benigndftrain, 1.5)\n",
    "#bdftest = augmentdata(bdftest, 2)\n",
    "#bdftest = augmentdata(bdftest, 1.5)"
   ]
  },
  {
   "cell_type": "code",
   "execution_count": 18,
   "metadata": {},
   "outputs": [
    {
     "name": "stdout",
     "output_type": "stream",
     "text": [
      "(132018, 8)\n",
      "(11002, 8)\n"
     ]
    }
   ],
   "source": [
    "print(benigndftrain.shape)\n",
    "print(benigndftest.shape)"
   ]
  },
  {
   "cell_type": "code",
   "execution_count": 19,
   "metadata": {},
   "outputs": [
    {
     "data": {
      "image/png": "[encoded data removed]",
      "text/plain": [
       "<Figure size 432x288 with 1 Axes>"
      ]
     },
     "metadata": {
      "needs_background": "light"
     },
     "output_type": "display_data"
    }
   ],
   "source": [
    "plt.imshow(benigndf.iat[-60, 7])\n",
    "plt.show()"
   ]
  },
  {
   "cell_type": "code",
   "execution_count": 20,
   "metadata": {},
   "outputs": [
    {
     "name": "stdout",
     "output_type": "stream",
     "text": [
      "(219678, 8)\n",
      "(12098, 8)\n"
     ]
    }
   ],
   "source": [
    "traindata = mdftrain.append(benigndftrain, ignore_index = True)\n",
    "testdata = mdftest.append(benigndftest, ignore_index = True)\n",
    "print(traindata.shape)\n",
    "print(testdata.shape)"
   ]
  },
  {
   "cell_type": "code",
   "execution_count": 21,
   "metadata": {},
   "outputs": [
    {
     "data": {
      "text/plain": [
       "22025"
      ]
     },
     "execution_count": 21,
     "metadata": {},
     "output_type": "execute_result"
    }
   ],
   "source": [
    "del mdftrain\n",
    "del mdftest\n",
    "del benigndftrain\n",
    "del benigndftest\n",
    "gc.collect()"
   ]
  },
  {
   "cell_type": "code",
   "execution_count": 22,
   "metadata": {},
   "outputs": [
    {
     "data": {
      "text/html": [
       "<div>\n",
       "<style scoped>\n",
       "    .dataframe tbody tr th:only-of-type {\n",
       "        vertical-align: middle;\n",
       "    }\n",
       "\n",
       "    .dataframe tbody tr th {\n",
       "        vertical-align: top;\n",
       "    }\n",
       "\n",
       "    .dataframe thead th {\n",
       "        text-align: right;\n",
       "    }\n",
       "</style>\n",
       "<table border=\"1\" class=\"dataframe\">\n",
       "  <thead>\n",
       "    <tr style=\"text-align: right;\">\n",
       "      <th></th>\n",
       "      <th>patient_id</th>\n",
       "      <th>image_id</th>\n",
       "      <th>target</th>\n",
       "      <th>source</th>\n",
       "      <th>sex</th>\n",
       "      <th>age_approx</th>\n",
       "      <th>anatom_site_general_challenge</th>\n",
       "      <th>image</th>\n",
       "    </tr>\n",
       "  </thead>\n",
       "  <tbody>\n",
       "    <tr>\n",
       "      <th>0</th>\n",
       "      <td>BCN_0000509</td>\n",
       "      <td>ISIC_0069864</td>\n",
       "      <td>1</td>\n",
       "      <td>ISIC19</td>\n",
       "      <td>male</td>\n",
       "      <td>40.0</td>\n",
       "      <td>upper extremity</td>\n",
       "      <td>[[[109, 107, 111], [109, 107, 111], [109, 107,...</td>\n",
       "    </tr>\n",
       "    <tr>\n",
       "      <th>1</th>\n",
       "      <td>HAM_0000945</td>\n",
       "      <td>ISIC_0031104</td>\n",
       "      <td>0</td>\n",
       "      <td>ISIC19</td>\n",
       "      <td>female</td>\n",
       "      <td>60.0</td>\n",
       "      <td>lower extremity</td>\n",
       "      <td>[[[245, 163, 177], [247, 178, 194], [247, 184,...</td>\n",
       "    </tr>\n",
       "    <tr>\n",
       "      <th>2</th>\n",
       "      <td>IP_3512888</td>\n",
       "      <td>ISIC_8483490</td>\n",
       "      <td>0</td>\n",
       "      <td>ISIC20</td>\n",
       "      <td>female</td>\n",
       "      <td>35.0</td>\n",
       "      <td>lower extremity</td>\n",
       "      <td>[[[186, 104, 144], [192, 117, 154], [198, 126,...</td>\n",
       "    </tr>\n",
       "    <tr>\n",
       "      <th>3</th>\n",
       "      <td>NaN</td>\n",
       "      <td>ISIC_0000306</td>\n",
       "      <td>1</td>\n",
       "      <td>ISIC19</td>\n",
       "      <td>male</td>\n",
       "      <td>50.0</td>\n",
       "      <td>upper extremity</td>\n",
       "      <td>[[[37, 26, 21], [37, 27, 20], [41, 28, 26], [7...</td>\n",
       "    </tr>\n",
       "    <tr>\n",
       "      <th>4</th>\n",
       "      <td>IP_6649505</td>\n",
       "      <td>ISIC_8119644</td>\n",
       "      <td>0</td>\n",
       "      <td>ISIC20</td>\n",
       "      <td>male</td>\n",
       "      <td>80.0</td>\n",
       "      <td>lower extremity</td>\n",
       "      <td>[[[151, 87, 109], [163, 92, 118], [174, 101, 1...</td>\n",
       "    </tr>\n",
       "  </tbody>\n",
       "</table>\n",
       "</div>"
      ],
      "text/plain": [
       "    patient_id      image_id  target  source     sex  age_approx  \\\n",
       "0  BCN_0000509  ISIC_0069864       1  ISIC19    male        40.0   \n",
       "1  HAM_0000945  ISIC_0031104       0  ISIC19  female        60.0   \n",
       "2   IP_3512888  ISIC_8483490       0  ISIC20  female        35.0   \n",
       "3          NaN  ISIC_0000306       1  ISIC19    male        50.0   \n",
       "4   IP_6649505  ISIC_8119644       0  ISIC20    male        80.0   \n",
       "\n",
       "  anatom_site_general_challenge  \\\n",
       "0               upper extremity   \n",
       "1               lower extremity   \n",
       "2               lower extremity   \n",
       "3               upper extremity   \n",
       "4               lower extremity   \n",
       "\n",
       "                                               image  \n",
       "0  [[[109, 107, 111], [109, 107, 111], [109, 107,...  \n",
       "1  [[[245, 163, 177], [247, 178, 194], [247, 184,...  \n",
       "2  [[[186, 104, 144], [192, 117, 154], [198, 126,...  \n",
       "3  [[[37, 26, 21], [37, 27, 20], [41, 28, 26], [7...  \n",
       "4  [[[151, 87, 109], [163, 92, 118], [174, 101, 1...  "
      ]
     },
     "execution_count": 22,
     "metadata": {},
     "output_type": "execute_result"
    }
   ],
   "source": [
    "traindata = traindata.sample(frac=1).reset_index(drop=True)\n",
    "traindata.head()"
   ]
  },
  {
   "cell_type": "code",
   "execution_count": 23,
   "metadata": {},
   "outputs": [
    {
     "data": {
      "text/html": [
       "<div>\n",
       "<style scoped>\n",
       "    .dataframe tbody tr th:only-of-type {\n",
       "        vertical-align: middle;\n",
       "    }\n",
       "\n",
       "    .dataframe tbody tr th {\n",
       "        vertical-align: top;\n",
       "    }\n",
       "\n",
       "    .dataframe thead th {\n",
       "        text-align: right;\n",
       "    }\n",
       "</style>\n",
       "<table border=\"1\" class=\"dataframe\">\n",
       "  <thead>\n",
       "    <tr style=\"text-align: right;\">\n",
       "      <th></th>\n",
       "      <th>patient_id</th>\n",
       "      <th>image_id</th>\n",
       "      <th>target</th>\n",
       "      <th>source</th>\n",
       "      <th>sex</th>\n",
       "      <th>age_approx</th>\n",
       "      <th>anatom_site_general_challenge</th>\n",
       "      <th>image</th>\n",
       "    </tr>\n",
       "  </thead>\n",
       "  <tbody>\n",
       "    <tr>\n",
       "      <th>0</th>\n",
       "      <td>HAM_0003050</td>\n",
       "      <td>ISIC_0033744</td>\n",
       "      <td>0</td>\n",
       "      <td>ISIC19</td>\n",
       "      <td>male</td>\n",
       "      <td>70.0</td>\n",
       "      <td>head/neck</td>\n",
       "      <td>[[[0, 0, 0], [0, 0, 0], [0, 0, 0], [0, 0, 0], ...</td>\n",
       "    </tr>\n",
       "    <tr>\n",
       "      <th>1</th>\n",
       "      <td>HAM_0004833</td>\n",
       "      <td>ISIC_0030069</td>\n",
       "      <td>0</td>\n",
       "      <td>ISIC19</td>\n",
       "      <td>male</td>\n",
       "      <td>75.0</td>\n",
       "      <td>torso</td>\n",
       "      <td>[[[179, 146, 143], [181, 148, 145], [182, 151,...</td>\n",
       "    </tr>\n",
       "    <tr>\n",
       "      <th>2</th>\n",
       "      <td>MSK4_0011363</td>\n",
       "      <td>ISIC_0012856_downsampled</td>\n",
       "      <td>0</td>\n",
       "      <td>ISIC19</td>\n",
       "      <td>female</td>\n",
       "      <td>70.0</td>\n",
       "      <td>head/neck</td>\n",
       "      <td>[[[102, 78, 81], [120, 85, 85], [137, 106, 108...</td>\n",
       "    </tr>\n",
       "    <tr>\n",
       "      <th>3</th>\n",
       "      <td>BCN_0004134</td>\n",
       "      <td>ISIC_0057713</td>\n",
       "      <td>0</td>\n",
       "      <td>ISIC19</td>\n",
       "      <td>female</td>\n",
       "      <td>50.0</td>\n",
       "      <td>lower extremity</td>\n",
       "      <td>[[[0, 0, 0], [0, 0, 0], [0, 0, 0], [0, 0, 0], ...</td>\n",
       "    </tr>\n",
       "    <tr>\n",
       "      <th>4</th>\n",
       "      <td>IP_6212064</td>\n",
       "      <td>ISIC_5184722</td>\n",
       "      <td>0</td>\n",
       "      <td>ISIC20</td>\n",
       "      <td>male</td>\n",
       "      <td>25.0</td>\n",
       "      <td>oral/genital</td>\n",
       "      <td>[[[51, 31, 22], [48, 23, 14], [60, 31, 22], [7...</td>\n",
       "    </tr>\n",
       "  </tbody>\n",
       "</table>\n",
       "</div>"
      ],
      "text/plain": [
       "     patient_id                  image_id  target  source     sex  age_approx  \\\n",
       "0   HAM_0003050              ISIC_0033744       0  ISIC19    male        70.0   \n",
       "1   HAM_0004833              ISIC_0030069       0  ISIC19    male        75.0   \n",
       "2  MSK4_0011363  ISIC_0012856_downsampled       0  ISIC19  female        70.0   \n",
       "3   BCN_0004134              ISIC_0057713       0  ISIC19  female        50.0   \n",
       "4    IP_6212064              ISIC_5184722       0  ISIC20    male        25.0   \n",
       "\n",
       "  anatom_site_general_challenge  \\\n",
       "0                     head/neck   \n",
       "1                         torso   \n",
       "2                     head/neck   \n",
       "3               lower extremity   \n",
       "4                  oral/genital   \n",
       "\n",
       "                                               image  \n",
       "0  [[[0, 0, 0], [0, 0, 0], [0, 0, 0], [0, 0, 0], ...  \n",
       "1  [[[179, 146, 143], [181, 148, 145], [182, 151,...  \n",
       "2  [[[102, 78, 81], [120, 85, 85], [137, 106, 108...  \n",
       "3  [[[0, 0, 0], [0, 0, 0], [0, 0, 0], [0, 0, 0], ...  \n",
       "4  [[[51, 31, 22], [48, 23, 14], [60, 31, 22], [7...  "
      ]
     },
     "execution_count": 23,
     "metadata": {},
     "output_type": "execute_result"
    }
   ],
   "source": [
    "testdata = testdata.sample(frac=1).reset_index(drop=True)\n",
    "testdata.head()"
   ]
  },
  {
   "cell_type": "code",
   "execution_count": 24,
   "metadata": {},
   "outputs": [
    {
     "data": {
      "text/plain": [
       "20"
      ]
     },
     "execution_count": 24,
     "metadata": {},
     "output_type": "execute_result"
    }
   ],
   "source": [
    "gc.collect()"
   ]
  },
  {
   "cell_type": "code",
   "execution_count": 25,
   "metadata": {},
   "outputs": [
    {
     "data": {
      "image/png": "[encoded data removed]",
      "text/plain": [
       "<Figure size 432x288 with 1 Axes>"
      ]
     },
     "metadata": {
      "needs_background": "light"
     },
     "output_type": "display_data"
    }
   ],
   "source": [
    "plt.imshow(testdata.iat[3, 7])\n",
    "plt.show()"
   ]
  },
  {
   "cell_type": "code",
   "execution_count": 26,
   "metadata": {},
   "outputs": [
    {
     "name": "stdout",
     "output_type": "stream",
     "text": [
      "(219678, 64, 64, 3)\n",
      "(219678,)\n",
      "(12098, 64, 64, 3)\n",
      "(12098,)\n"
     ]
    }
   ],
   "source": [
    "xtrain = np.array([i for i in traindata.loc[:, \"image\"].to_numpy().tolist()])\n",
    "ytrain = traindata.loc[:, \"target\"].to_numpy()\n",
    "xtest = np.array([i for i in testdata.loc[:, \"image\"].to_numpy().tolist()])\n",
    "ytest = testdata.loc[:, \"target\"].to_numpy()\n",
    "print(xtrain.shape)\n",
    "print(ytrain.shape)\n",
    "print(xtest.shape)\n",
    "print(ytest.shape)"
   ]
  },
  {
   "cell_type": "code",
   "execution_count": 27,
   "metadata": {},
   "outputs": [
    {
     "data": {
      "image/png": "[encoded data removed]",
      "text/plain": [
       "<Figure size 432x288 with 1 Axes>"
      ]
     },
     "metadata": {
      "needs_background": "light"
     },
     "output_type": "display_data"
    }
   ],
   "source": [
    "plt.imshow(xtrain[1])\n",
    "plt.show()"
   ]
  },
  {
   "cell_type": "code",
   "execution_count": 28,
   "metadata": {},
   "outputs": [
    {
     "data": {
      "text/plain": [
       "(219678, 64, 64, 3)"
      ]
     },
     "execution_count": 28,
     "metadata": {},
     "output_type": "execute_result"
    }
   ],
   "source": [
    "xtrain.shape"
   ]
  },
  {
   "cell_type": "code",
   "execution_count": 29,
   "metadata": {},
   "outputs": [],
   "source": [
    "xtrainloc = pd.get_dummies(traindata[\"anatom_site_general_challenge\"])\n",
    "xtestloc = pd.get_dummies(testdata[\"anatom_site_general_challenge\"])"
   ]
  },
  {
   "cell_type": "code",
   "execution_count": 30,
   "metadata": {},
   "outputs": [],
   "source": [
    "xtrainloc.loc[:, \"torso\"] = xtrainloc.loc[:, \"torso\"]|xtrainloc.loc[:, \"lateral torso\"]\n",
    "xtestloc.loc[:, \"torso\"] = xtestloc.loc[:, \"torso\"]|xtestloc.loc[:, \"lateral torso\"]"
   ]
  },
  {
   "cell_type": "code",
   "execution_count": 31,
   "metadata": {},
   "outputs": [
    {
     "data": {
      "text/plain": [
       "4966"
      ]
     },
     "execution_count": 31,
     "metadata": {},
     "output_type": "execute_result"
    }
   ],
   "source": [
    "xtrainloc = xtrainloc.drop(\"lateral torso\", axis = 1)\n",
    "xtestloc = xtestloc.drop(\"lateral torso\", axis = 1)\n",
    "gc.collect()"
   ]
  },
  {
   "cell_type": "code",
   "execution_count": 32,
   "metadata": {},
   "outputs": [],
   "source": [
    "xtrainsex = pd.get_dummies(traindata[\"sex\"])\n",
    "xtestsex = pd.get_dummies(testdata[\"sex\"])"
   ]
  },
  {
   "cell_type": "code",
   "execution_count": 33,
   "metadata": {},
   "outputs": [],
   "source": [
    "xtrainloc = xtrainloc.to_numpy()\n",
    "xtestloc = xtestloc.to_numpy()\n",
    "xtrainsex = xtrainsex.to_numpy()\n",
    "xtestsex = xtestsex.to_numpy()"
   ]
  },
  {
   "cell_type": "code",
   "execution_count": 34,
   "metadata": {},
   "outputs": [
    {
     "data": {
      "text/plain": [
       "60"
      ]
     },
     "execution_count": 34,
     "metadata": {},
     "output_type": "execute_result"
    }
   ],
   "source": [
    "del traindata\n",
    "del testdata\n",
    "gc.collect()"
   ]
  },
  {
   "cell_type": "code",
   "execution_count": 35,
   "metadata": {},
   "outputs": [],
   "source": [
    "results = pd.read_csv('../input/siim-isic-melanoma-classification/sample_submission.csv')\n",
    "realtest = pd.read_csv(\"../input/siim-isic-melanoma-classification/test.csv\")\n",
    "X_testing = np.load(\"../input/siimisic-melanoma-resized-images/x_test_64.npy\")"
   ]
  },
  {
   "cell_type": "code",
   "execution_count": 36,
   "metadata": {},
   "outputs": [],
   "source": [
    "X_testing_loc = pd.get_dummies(realtest[\"anatom_site_general_challenge\"])\n",
    "X_testing_sex = pd.get_dummies(realtest[\"sex\"])"
   ]
  },
  {
   "cell_type": "code",
   "execution_count": 37,
   "metadata": {},
   "outputs": [],
   "source": [
    "X_testing_loc = X_testing_loc.to_numpy()\n",
    "X_testing_sex = X_testing_sex.to_numpy()"
   ]
  },
  {
   "cell_type": "code",
   "execution_count": 38,
   "metadata": {},
   "outputs": [
    {
     "data": {
      "text/plain": [
       "array([[0, 0, 0, 0, 0, 1],\n",
       "       [0, 1, 0, 0, 0, 0],\n",
       "       [0, 1, 0, 0, 0, 0],\n",
       "       ...,\n",
       "       [0, 0, 0, 0, 0, 1],\n",
       "       [1, 0, 0, 0, 0, 0],\n",
       "       [0, 1, 0, 0, 0, 0]], dtype=uint8)"
      ]
     },
     "execution_count": 38,
     "metadata": {},
     "output_type": "execute_result"
    }
   ],
   "source": [
    "xtrainloc"
   ]
  },
  {
   "cell_type": "code",
   "execution_count": 39,
   "metadata": {},
   "outputs": [
    {
     "data": {
      "text/html": [
       "<div>\n",
       "<style scoped>\n",
       "    .dataframe tbody tr th:only-of-type {\n",
       "        vertical-align: middle;\n",
       "    }\n",
       "\n",
       "    .dataframe tbody tr th {\n",
       "        vertical-align: top;\n",
       "    }\n",
       "\n",
       "    .dataframe thead th {\n",
       "        text-align: right;\n",
       "    }\n",
       "</style>\n",
       "<table border=\"1\" class=\"dataframe\">\n",
       "  <thead>\n",
       "    <tr style=\"text-align: right;\">\n",
       "      <th></th>\n",
       "      <th>image_name</th>\n",
       "      <th>target</th>\n",
       "    </tr>\n",
       "  </thead>\n",
       "  <tbody>\n",
       "    <tr>\n",
       "      <th>0</th>\n",
       "      <td>ISIC_0052060</td>\n",
       "      <td>0</td>\n",
       "    </tr>\n",
       "    <tr>\n",
       "      <th>1</th>\n",
       "      <td>ISIC_0052349</td>\n",
       "      <td>0</td>\n",
       "    </tr>\n",
       "    <tr>\n",
       "      <th>2</th>\n",
       "      <td>ISIC_0058510</td>\n",
       "      <td>0</td>\n",
       "    </tr>\n",
       "    <tr>\n",
       "      <th>3</th>\n",
       "      <td>ISIC_0073313</td>\n",
       "      <td>0</td>\n",
       "    </tr>\n",
       "    <tr>\n",
       "      <th>4</th>\n",
       "      <td>ISIC_0073502</td>\n",
       "      <td>0</td>\n",
       "    </tr>\n",
       "    <tr>\n",
       "      <th>...</th>\n",
       "      <td>...</td>\n",
       "      <td>...</td>\n",
       "    </tr>\n",
       "    <tr>\n",
       "      <th>10977</th>\n",
       "      <td>ISIC_9992485</td>\n",
       "      <td>0</td>\n",
       "    </tr>\n",
       "    <tr>\n",
       "      <th>10978</th>\n",
       "      <td>ISIC_9996992</td>\n",
       "      <td>0</td>\n",
       "    </tr>\n",
       "    <tr>\n",
       "      <th>10979</th>\n",
       "      <td>ISIC_9997917</td>\n",
       "      <td>0</td>\n",
       "    </tr>\n",
       "    <tr>\n",
       "      <th>10980</th>\n",
       "      <td>ISIC_9998234</td>\n",
       "      <td>0</td>\n",
       "    </tr>\n",
       "    <tr>\n",
       "      <th>10981</th>\n",
       "      <td>ISIC_9999302</td>\n",
       "      <td>0</td>\n",
       "    </tr>\n",
       "  </tbody>\n",
       "</table>\n",
       "<p>10982 rows × 2 columns</p>\n",
       "</div>"
      ],
      "text/plain": [
       "         image_name  target\n",
       "0      ISIC_0052060       0\n",
       "1      ISIC_0052349       0\n",
       "2      ISIC_0058510       0\n",
       "3      ISIC_0073313       0\n",
       "4      ISIC_0073502       0\n",
       "...             ...     ...\n",
       "10977  ISIC_9992485       0\n",
       "10978  ISIC_9996992       0\n",
       "10979  ISIC_9997917       0\n",
       "10980  ISIC_9998234       0\n",
       "10981  ISIC_9999302       0\n",
       "\n",
       "[10982 rows x 2 columns]"
      ]
     },
     "execution_count": 39,
     "metadata": {},
     "output_type": "execute_result"
    }
   ],
   "source": [
    "results"
   ]
  },
  {
   "cell_type": "code",
   "execution_count": 40,
   "metadata": {},
   "outputs": [],
   "source": [
    "# detect and init the TPU\n",
    "#tpu = tf.distribute.cluster_resolver.TPUClusterResolver()\n",
    "#tf.config.experimental_connect_to_cluster(tpu)\n",
    "#tf.tpu.experimental.initialize_tpu_system(tpu)\n",
    "\n",
    "# instantiate a distribution strategy\n",
    "#tpu_strategy = tf.distribute.experimental.TPUStrategy(tpu)\n",
    "# who knows what this does?\n",
    "#BATCH_SIZE = 16 * tpu_strategy.num_replicas_in_sync\n",
    "#print(BATCH_SIZE)"
   ]
  },
  {
   "cell_type": "code",
   "execution_count": 41,
   "metadata": {},
   "outputs": [
    {
     "name": "stdout",
     "output_type": "stream",
     "text": [
      "2048\n"
     ]
    }
   ],
   "source": [
    "BATCH_SIZE = 2048 #* tpu_strategy.num_replicas_in_sync\n",
    "print(BATCH_SIZE)\n",
    "training_epochs = 3\n",
    "#model_tests = 1"
   ]
  },
  {
   "cell_type": "code",
   "execution_count": 42,
   "metadata": {},
   "outputs": [
    {
     "data": {
      "text/plain": [
       "168"
      ]
     },
     "execution_count": 42,
     "metadata": {},
     "output_type": "execute_result"
    }
   ],
   "source": [
    "gc.collect()"
   ]
  },
  {
   "cell_type": "code",
   "execution_count": 43,
   "metadata": {},
   "outputs": [],
   "source": [
    "def makemodel(summarize = False, output_plot = False):\n",
    "    imgin = tf.keras.layers.Input(shape = (64, 64, 3))\n",
    "    imgmodel = tf.keras.layers.Lambda(lambda x: x / 255)(imgin)\n",
    "    imgmodel = tf.keras.layers.Conv2D(32, kernel_size=(3, 3),activation='relu')(imgmodel)\n",
    "    imgmodel = (tf.keras.layers.Conv2D(32, (3, 3), padding=\"valid\"))(imgmodel)\n",
    "    imgmodel = (tf.keras.layers.MaxPooling2D(pool_size=(2, 2)))(imgmodel)\n",
    "    imgmodel = (tf.keras.layers.Dropout(0.25))(imgmodel)\n",
    "    imgmodel = (tf.keras.layers.Flatten())(imgmodel)\n",
    "    imgmodel = (tf.keras.layers.Dense(256, activation='relu'))(imgmodel)\n",
    "    imgmodel = (tf.keras.layers.Dropout(0.1))(imgmodel)\n",
    "    imgmodel = (tf.keras.layers.Dense(256, activation='relu'))(imgmodel)\n",
    "    imgmodel = (tf.keras.layers.Dropout(0.1))(imgmodel)\n",
    "    imgmodel = (tf.keras.layers.Dense(256, activation='relu'))(imgmodel)\n",
    "    imgmodel = (tf.keras.layers.Dropout(0.1))(imgmodel)\n",
    "    imgmodel = (tf.keras.layers.Dense(256, activation='relu'))(imgmodel)\n",
    "    #imgmodel.add(tf.keras.layers.Dropout(0.1))\n",
    "    #imgmodel.add(tf.keras.layers.Dense(1, activation = \"sigmoid\"))\n",
    "\n",
    "\n",
    "    lossfunc = tf.keras.losses.BinaryCrossentropy()\n",
    "    #imgmodel.compile(loss = lossfunc,optimizer = 'Adam',metrics = ['accuracy'])\n",
    "\n",
    "    auxin = tf.keras.layers.Input(shape = (6,))\n",
    "    auxmodel = (tf.keras.layers.Dense(1, activation = \"relu\", input_shape = (6,)))(auxin)\n",
    "\n",
    "    sexin = tf.keras.layers.Input(shape = (2,))\n",
    "    sexmodel = (tf.keras.layers.Dense(1, activation = \"relu\", input_shape = (2,)))(sexin)\n",
    "\n",
    "    concatlayer = tf.keras.layers.concatenate([imgmodel, auxmodel, sexmodel])\n",
    "    outlayer = (tf.keras.layers.Dense(256, activation = \"relu\"))(concatlayer)\n",
    "    outlayer = (tf.keras.layers.Dropout(0.2))(outlayer)\n",
    "    outlayer = (tf.keras.layers.Dense(1, activation = \"sigmoid\"))(outlayer)\n",
    "\n",
    "    model = tf.keras.Model(inputs = [imgin, auxin, sexin], outputs = outlayer)\n",
    "    model.compile(loss = lossfunc, optimizer = \"Adam\", metrics=[\"accuracy\", tf.keras.metrics.AUC()])\n",
    "    if(summarize):\n",
    "        model.summary()\n",
    "    if(output_plot):\n",
    "        tf.keras.utils.plot_model(model, to_file=\"model-visual-%s.png\" % datetime.datetime.isoformat(datetime.datetime.now()), show_shapes=True)\n",
    "    return model"
   ]
  },
  {
   "cell_type": "code",
   "execution_count": 44,
   "metadata": {},
   "outputs": [],
   "source": [
    "#xtrain = np.float16(xtrain/255.0)\n",
    "#xtest = np.float16(xtest/255.0)\n",
    "#ytrain = np.float16(ytrain/255.0)\n",
    "#ytest = np.float16(ytest/255.0)\n",
    "#gc.collect()"
   ]
  },
  {
   "cell_type": "code",
   "execution_count": 45,
   "metadata": {},
   "outputs": [
    {
     "name": "stdout",
     "output_type": "stream",
     "text": [
      "Model: \"model\"\n",
      "__________________________________________________________________________________________________\n",
      "Layer (type)                    Output Shape         Param #     Connected to                     \n",
      "==================================================================================================\n",
      "input_1 (InputLayer)            [(None, 64, 64, 3)]  0                                            \n",
      "__________________________________________________________________________________________________\n",
      "lambda (Lambda)                 (None, 64, 64, 3)    0           input_1[0][0]                    \n",
      "__________________________________________________________________________________________________\n",
      "conv2d (Conv2D)                 (None, 62, 62, 32)   896         lambda[0][0]                     \n",
      "__________________________________________________________________________________________________\n",
      "conv2d_1 (Conv2D)               (None, 60, 60, 32)   9248        conv2d[0][0]                     \n",
      "__________________________________________________________________________________________________\n",
      "max_pooling2d (MaxPooling2D)    (None, 30, 30, 32)   0           conv2d_1[0][0]                   \n",
      "__________________________________________________________________________________________________\n",
      "dropout (Dropout)               (None, 30, 30, 32)   0           max_pooling2d[0][0]              \n",
      "__________________________________________________________________________________________________\n",
      "flatten (Flatten)               (None, 28800)        0           dropout[0][0]                    \n",
      "__________________________________________________________________________________________________\n",
      "dense (Dense)                   (None, 256)          7373056     flatten[0][0]                    \n",
      "__________________________________________________________________________________________________\n",
      "dropout_1 (Dropout)             (None, 256)          0           dense[0][0]                      \n",
      "__________________________________________________________________________________________________\n",
      "dense_1 (Dense)                 (None, 256)          65792       dropout_1[0][0]                  \n",
      "__________________________________________________________________________________________________\n",
      "dropout_2 (Dropout)             (None, 256)          0           dense_1[0][0]                    \n",
      "__________________________________________________________________________________________________\n",
      "dense_2 (Dense)                 (None, 256)          65792       dropout_2[0][0]                  \n",
      "__________________________________________________________________________________________________\n",
      "dropout_3 (Dropout)             (None, 256)          0           dense_2[0][0]                    \n",
      "__________________________________________________________________________________________________\n",
      "input_2 (InputLayer)            [(None, 6)]          0                                            \n",
      "__________________________________________________________________________________________________\n",
      "input_3 (InputLayer)            [(None, 2)]          0                                            \n",
      "__________________________________________________________________________________________________\n",
      "dense_3 (Dense)                 (None, 256)          65792       dropout_3[0][0]                  \n",
      "__________________________________________________________________________________________________\n",
      "dense_4 (Dense)                 (None, 1)            7           input_2[0][0]                    \n",
      "__________________________________________________________________________________________________\n",
      "dense_5 (Dense)                 (None, 1)            3           input_3[0][0]                    \n",
      "__________________________________________________________________________________________________\n",
      "concatenate (Concatenate)       (None, 258)          0           dense_3[0][0]                    \n",
      "                                                                 dense_4[0][0]                    \n",
      "                                                                 dense_5[0][0]                    \n",
      "__________________________________________________________________________________________________\n",
      "dense_6 (Dense)                 (None, 256)          66304       concatenate[0][0]                \n",
      "__________________________________________________________________________________________________\n",
      "dropout_4 (Dropout)             (None, 256)          0           dense_6[0][0]                    \n",
      "__________________________________________________________________________________________________\n",
      "dense_7 (Dense)                 (None, 1)            257         dropout_4[0][0]                  \n",
      "==================================================================================================\n",
      "Total params: 7,647,147\n",
      "Trainable params: 7,647,147\n",
      "Non-trainable params: 0\n",
      "__________________________________________________________________________________________________\n",
      "108/108 [==============================] - 19s 179ms/step - loss: 0.5043 - accuracy: 0.7332 - auc: 0.8158 - val_loss: 0.4001 - val_accuracy: 0.8001 - val_auc: 0.8335\n",
      "108/108 [==============================] - 18s 168ms/step - loss: 0.4131 - accuracy: 0.7977 - auc: 0.8842 - val_loss: 0.2583 - val_accuracy: 0.9022 - val_auc: 0.8450\n",
      "108/108 [==============================] - 18s 167ms/step - loss: 0.3760 - accuracy: 0.8208 - auc: 0.9059 - val_loss: 0.2829 - val_accuracy: 0.8750 - val_auc: 0.8553\n"
     ]
    }
   ],
   "source": [
    "#for i in range(model_tests):\n",
    "model = makemodel(summarize = True)\n",
    "gc.collect()\n",
    "#    valrocscores.append([])\n",
    "#    trainrocscores.append([])\n",
    "for i in range(training_epochs):\n",
    "    model.fit(x = [xtrain, xtrainloc, xtrainsex], y = ytrain, epochs = 1, validation_data = ([xtest, xtestloc, xtestsex], ytest), batch_size = BATCH_SIZE, validation_batch_size = BATCH_SIZE)\n",
    "    gc.collect()\n",
    "prediction = model.predict(x = [X_testing, X_testing_loc, X_testing_sex], batch_size = BATCH_SIZE)\n",
    "results[\"target\"] = prediction"
   ]
  },
  {
   "cell_type": "code",
   "execution_count": 46,
   "metadata": {},
   "outputs": [],
   "source": [
    "#plt.figure(figsize=(20,20))\n",
    "#plt.xlabel(\"epochs\")\n",
    "#plt.ylabel(\"validation roc\")\n",
    "#for i in valrocscores:\n",
    "#    plt.plot(i)\n",
    "#plt.savefig(\"rocscores-validation-%s.png\" % datetime.datetime.isoformat(datetime.datetime.now()))"
   ]
  },
  {
   "cell_type": "code",
   "execution_count": 47,
   "metadata": {},
   "outputs": [],
   "source": [
    "#plt.figure(figsize=(100,20))\n",
    "#plt.xlabel(\"epochs\")\n",
    "#plt.ylabel(\"training roc\")\n",
    "#for i in trainrocscores:\n",
    "#    plt.plot(i)\n",
    "#plt.savefig(\"rocscores-training-%s.png\" % datetime.datetime.isoformat(datetime.datetime.now()))"
   ]
  },
  {
   "cell_type": "code",
   "execution_count": 48,
   "metadata": {},
   "outputs": [
    {
     "data": {
      "text/html": [
       "<div>\n",
       "<style scoped>\n",
       "    .dataframe tbody tr th:only-of-type {\n",
       "        vertical-align: middle;\n",
       "    }\n",
       "\n",
       "    .dataframe tbody tr th {\n",
       "        vertical-align: top;\n",
       "    }\n",
       "\n",
       "    .dataframe thead th {\n",
       "        text-align: right;\n",
       "    }\n",
       "</style>\n",
       "<table border=\"1\" class=\"dataframe\">\n",
       "  <thead>\n",
       "    <tr style=\"text-align: right;\">\n",
       "      <th></th>\n",
       "      <th>image_name</th>\n",
       "      <th>target</th>\n",
       "    </tr>\n",
       "  </thead>\n",
       "  <tbody>\n",
       "    <tr>\n",
       "      <th>0</th>\n",
       "      <td>ISIC_0052060</td>\n",
       "      <td>0.029299</td>\n",
       "    </tr>\n",
       "    <tr>\n",
       "      <th>1</th>\n",
       "      <td>ISIC_0052349</td>\n",
       "      <td>0.000716</td>\n",
       "    </tr>\n",
       "    <tr>\n",
       "      <th>2</th>\n",
       "      <td>ISIC_0058510</td>\n",
       "      <td>0.000189</td>\n",
       "    </tr>\n",
       "    <tr>\n",
       "      <th>3</th>\n",
       "      <td>ISIC_0073313</td>\n",
       "      <td>0.000416</td>\n",
       "    </tr>\n",
       "    <tr>\n",
       "      <th>4</th>\n",
       "      <td>ISIC_0073502</td>\n",
       "      <td>0.034918</td>\n",
       "    </tr>\n",
       "  </tbody>\n",
       "</table>\n",
       "</div>"
      ],
      "text/plain": [
       "     image_name    target\n",
       "0  ISIC_0052060  0.029299\n",
       "1  ISIC_0052349  0.000716\n",
       "2  ISIC_0058510  0.000189\n",
       "3  ISIC_0073313  0.000416\n",
       "4  ISIC_0073502  0.034918"
      ]
     },
     "execution_count": 48,
     "metadata": {},
     "output_type": "execute_result"
    }
   ],
   "source": [
    "results.head()"
   ]
  },
  {
   "cell_type": "code",
   "execution_count": 49,
   "metadata": {},
   "outputs": [],
   "source": [
    "#finalresults = results.iloc[:, :2]"
   ]
  },
  {
   "cell_type": "code",
   "execution_count": 50,
   "metadata": {},
   "outputs": [],
   "source": [
    "#resultsrank = results.copy()\n",
    "#resultsrank.iloc[:, 2:] = resultsrank.iloc[:, 2:].rank(ascending = False)"
   ]
  },
  {
   "cell_type": "code",
   "execution_count": 51,
   "metadata": {},
   "outputs": [],
   "source": [
    "#resultsrank"
   ]
  },
  {
   "cell_type": "code",
   "execution_count": 52,
   "metadata": {},
   "outputs": [],
   "source": [
    "#finalresults.loc[:, \"target\"] = resultsrank.iloc[:, 2:].median(axis = 1)\n",
    "#finalresults"
   ]
  },
  {
   "cell_type": "code",
   "execution_count": 53,
   "metadata": {},
   "outputs": [],
   "source": [
    "#finalresults.loc[:, \"target\"] = 1/(np.float64(finalresults.loc[:, \"target\"]))"
   ]
  },
  {
   "cell_type": "code",
   "execution_count": 54,
   "metadata": {},
   "outputs": [],
   "source": [
    "#print(\"%0.20f\" % (finalresults.loc[0, \"target\"]))"
   ]
  },
  {
   "cell_type": "code",
   "execution_count": 55,
   "metadata": {},
   "outputs": [],
   "source": [
    "results.to_csv(\"sample_cnn_%s.csv\" % datetime.datetime.isoformat(datetime.datetime.now()), header=True, index=False)"
   ]
  },
  {
   "cell_type": "code",
   "execution_count": 56,
   "metadata": {},
   "outputs": [],
   "source": [
    "#results.to_csv(\"raw_sample_cnn_%s.csv\" % datetime.datetime.isoformat(datetime.datetime.now()), header=True, index=False)#"
   ]
  },
  {
   "cell_type": "code",
   "execution_count": 57,
   "metadata": {},
   "outputs": [],
   "source": [
    "#model.save(\"trained_model %s.h5\" % datetime.datetime.isoformat(datetime.datetime.now()))"
   ]
  },
  {
   "cell_type": "code",
   "execution_count": 58,
   "metadata": {},
   "outputs": [
    {
     "data": {
      "text/plain": [
       "1015"
      ]
     },
     "execution_count": 58,
     "metadata": {},
     "output_type": "execute_result"
    }
   ],
   "source": [
    "gc.collect()"
   ]
  },
  {
   "cell_type": "code",
   "execution_count": null,
   "metadata": {},
   "outputs": [],
   "source": []
  },
  {
   "cell_type": "code",
   "execution_count": null,
   "metadata": {},
   "outputs": [],
   "source": []
  }
 ],
 "metadata": {
  "kernelspec": {
   "display_name": "Python 3",
   "language": "python",
   "name": "python3"
  },
  "language_info": {
   "codemirror_mode": {
    "name": "ipython",
    "version": 3
   },
   "file_extension": ".py",
   "mimetype": "text/x-python",
   "name": "python",
   "nbconvert_exporter": "python",
   "pygments_lexer": "ipython3",
   "version": "3.7.6"
  }
 },
 "nbformat": 4,
 "nbformat_minor": 4
}
